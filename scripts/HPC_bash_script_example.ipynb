{
  "nbformat": 4,
  "nbformat_minor": 0,
  "metadata": {
    "colab": {
      "provenance": []
    },
    "kernelspec": {
      "name": "python3",
      "display_name": "Python 3"
    },
    "language_info": {
      "name": "python"
    }
  },
  "cells": [
    {
      "cell_type": "code",
      "execution_count": null,
      "metadata": {
        "id": "fmy-uPdKqDHb"
      },
      "outputs": [],
      "source": [
        "#the following shell commands demonstrate how to implement the variant calling pipeline on one sample\n",
        "#assuming you have downloaded a sample: wgs_1011086.cram through Accesstoacram.ipynb"
      ]
    },
    {
      "cell_type": "code",
      "source": [
        "# Step 1: extract reads from 48S regions that are known to the database/reference\n",
        "# https://genome.ucsc.edu/cgi-bin/hgGateway\n",
        "# chr21:8433222-8446571 chr21:8205988-8219301 chr21:8389035-8402342 chr22_KI270733v1_random:122273-135644 chrUn_GL000220v1:105424-118779\n",
        "##########################################################################################################################################################\n",
        "! samtools view -h wgs_1011086.cram chr21:8433222-8446571 chr21:8205988-8219301 chr21:8389035-8402342 chr22_KI270733v1_random:122273-135644 chrUn_GL000220v1:105424-118779 > RNA45SN1t5.cram"
      ],
      "metadata": {
        "id": "SlQ16CrsrDF5"
      },
      "execution_count": null,
      "outputs": []
    },
    {
      "cell_type": "code",
      "source": [
        "# Step 2: reconstruct fastq from cram\n",
        "####################################################################################################################################\n",
        "%%bash\n",
        "samtools collate -u -O RNA45SN1t5.cram | \\\n",
        "samtools fastq -1 paired1.fq -2 paired2.fq -0 /dev/null -s /dev/null -n\n"
      ],
      "metadata": {
        "id": "ljg0euO0sWx0"
      },
      "execution_count": null,
      "outputs": []
    },
    {
      "cell_type": "code",
      "source": [
        "# Step 3: alignment with Bowtie\n",
        "# Bowtie2 installation: https://github.com/BenLangmead/bowtie2/releases/tag/v2.5.4\n",
        "####################################################################################################################################\n",
        "%%bash\n",
        "/home/jupyter/packages/bowtie2-2.5.4-linux-x86_64/bowtie2 -5 1 -N 1 -p 8 \\\n",
        "    -x /home/jupyter/workspaces/humanrrnaproject/rDNA_prototype_prerRNA/rDNA_prototype_prerRNA_only \\\n",
        "    -1 paired1.fq \\\n",
        "    -2 paired2.fq \\\n",
        "    -S example_output.sam\n"
      ],
      "metadata": {
        "id": "dwsYjtjqtL01"
      },
      "execution_count": null,
      "outputs": []
    },
    {
      "cell_type": "code",
      "source": [
        "# Step 4: sam to bam; sorting\n",
        "# the sorting here might be repetitive because you must sort it again after calling lofreq the first time,\n",
        "# however this sort was necessary in the Greene, so recommand to keep\n",
        "%%bash\n",
        "samtools view -Sbh example_output.sam > example_output_rDNA.bam\n",
        "samtools sort -@ 8 -o example_sort.bam -O 'bam' example_output_rDNA.bam\n"
      ],
      "metadata": {
        "id": "xtoY16beuHSC"
      },
      "execution_count": null,
      "outputs": []
    },
    {
      "cell_type": "code",
      "source": [
        "# Step 5.1 : lofreq\n",
        "# lofreq needs to be downloaded if you dont have it, do not recommand the installation method from lofreq website\n",
        "# recommandation:\n",
        "# 1.install miniconda: https://docs.conda.io/projects/conda/en/latest/user-guide/install/linux.html\n",
        "# 2. create a conda environment: conda create -n \"lofreq\"\n",
        "# 3. install bioconda: conda config --add channels bioconda\n",
        "# 4. install lofreq: conda install bioconda::lofreq\n",
        "# 5. activate the environment with lofreq installed\n",
        "%%bash\n",
        "source ~/miniconda3/bin/activate\n",
        "conda activate lofreq\n"
      ],
      "metadata": {
        "id": "4MBHX7_Xuu74"
      },
      "execution_count": null,
      "outputs": []
    },
    {
      "cell_type": "code",
      "source": [
        "#Step 5.2 : mark indels\n",
        "%%bash\n",
        "lofreq indelqual --dindel \\\n",
        "    -f /home/jupyter/workspaces/humanrrnaproject/rDNA_prototype_prerRNA_only.fa \\\n",
        "    -o example_indel_rDNA.bam \\\n",
        "    example_output_rDNA.bam"
      ],
      "metadata": {
        "id": "cO2g-dhXwsDy"
      },
      "execution_count": null,
      "outputs": []
    },
    {
      "cell_type": "code",
      "source": [
        "#Step 5.3 : SORT again, important to run before continuing\n",
        "! samtools sort -@ 8 -o example_indel_sort.bam -O 'bam'  example_indel_rDNA.bam"
      ],
      "metadata": {
        "id": "4fpu2r8Ew7Gl"
      },
      "execution_count": null,
      "outputs": []
    },
    {
      "cell_type": "code",
      "source": [
        "#Step 5.4 : generate vcf output\n",
        "%%bash\n",
        "lofreq call --call-indels -f /home/jupyter/workspaces/humanrrnaproject/rDNA_prototype_prerRNA_only.fa \\\n",
        "    -o example_output_rDNA.vcf \\\n",
        "    example_indel_sort.bam"
      ],
      "metadata": {
        "id": "ixQrt9tFxFrw"
      },
      "execution_count": null,
      "outputs": []
    },
    {
      "cell_type": "code",
      "source": [
        "#Step 6 : coverage with bedtools\n",
        "# bedtools has a pretty good bedtools.static.binary for installation, recommanded\n",
        "# https://bedtools.readthedocs.io/en/latest/\n",
        "! /home/jupyter/packages/bedtools genomecov -d -ibam example_output_rDNA.bam > example_coverage_test1.txt"
      ],
      "metadata": {
        "id": "BeG89WcfxP1D"
      },
      "execution_count": null,
      "outputs": []
    }
  ]
}